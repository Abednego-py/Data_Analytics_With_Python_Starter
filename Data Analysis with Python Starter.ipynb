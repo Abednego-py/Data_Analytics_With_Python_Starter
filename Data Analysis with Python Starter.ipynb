{
 "cells": [
  {
   "cell_type": "markdown",
   "id": "cf24b0a4",
   "metadata": {},
   "source": [
    "### Review \n",
    "\n",
    "By now, you should be able to confidently answer the following questions\n",
    "\n",
    "\n",
    "- What is Data Analysis\n",
    "\n",
    "\n",
    "- The problems data analysts solve\n",
    "\n",
    "\n",
    "- The different analysis needs \n",
    "\n",
    "\n",
    "- How to approach a data analysis project\n",
    "\n",
    "\n",
    "- Some of the tools used for data analysis and their use cases\n",
    "\n",
    "\n",
    "\n",
    "\n",
    "\n",
    "Let's review answers to these questions, shall we?"
   ]
  },
  {
   "cell_type": "markdown",
   "id": "5caa35c8",
   "metadata": {},
   "source": [
    "####  What is Data Analysis\n",
    "\n",
    "`Holistic Definition`\n",
    "\n",
    "Data analysis is the process of inspecting, cleaning, transforming, and interpreting data in order to extract meaningful insights, support decision-making, and identify trends, patterns, or anomalies. It involves using various techniques to organize and summarize data, often with the goal of answering specific questions, solving problems, or making informed decisions.\n",
    "\n",
    "`Informal and Straight-forward Definition`\n",
    "\n",
    "Data Analysis is how we make sense of data or how we use data to answer business questions"
   ]
  },
  {
   "cell_type": "markdown",
   "id": "5f239b51",
   "metadata": {},
   "source": [
    "### The problems Data Analyst solve\n",
    "\n",
    "Data Analyst work across a variety of industries and business domain. They help companies answer critical business questions and solve problems by analyzing their data.\n",
    "\n",
    "- **Customer Churn** :  A company is losing customers and wants to understand why\n",
    "\n",
    "\n",
    "- **Sales Forecasting** : A business wants to predict future sales to plan inventory, staffing, and marketing efforts.\n",
    "\n",
    "\n",
    "- **Marketing Campaign Effectiveness** : A company runs several marketing campaigns and wants to know which ones are most effective.\n",
    "\n",
    "\n",
    "- **Operational Efficiency** : A company is experiencing bottlenecks in its production process and wants to improve operational efficiency.\n",
    "\n",
    "\n",
    "- **Fraud Detection** : A financial institution suspects fraudulent activity in transactions and needs to detect it quickly."
   ]
  },
  {
   "cell_type": "markdown",
   "id": "10510107",
   "metadata": {},
   "source": [
    "### Different Analysis Needs\n",
    "\n",
    "![Data Analysis Needs](data_analysis_needs.png)\n",
    "\n",
    "\n",
    "`Descriptive Analysis`\n",
    "\n",
    "**Need**: Understanding past trends and summarizing data.\n",
    "\n",
    "**Example**: A retail company wants to know last quarter’s sales performance.\n",
    "\n",
    "**Solution** : Use summary statistics (mean, median, mode), data visualization, and reporting tools.\n",
    "\n",
    "\n",
    "\n",
    "\n",
    "`Diagnostic Analysis`\n",
    "\n",
    "**Need**: Finding the root cause of trends or issues.\n",
    "\n",
    "**Example**: A bank notices an increase in loan defaults and wants to identify why.\n",
    "\n",
    "**Solution**: Use correlation analysis, hypothesis testing, and drill-down reports.\n",
    "\n",
    "\n",
    "`Predictive Analysis`\n",
    "\n",
    "**Need**: Forecasting future trends and events.\n",
    "\n",
    "**Example**: A telecom company wants to predict which customers might leave (churn prediction).\n",
    "\n",
    "**Solution**: Use machine learning models and time-series forecasting.\n",
    "\n",
    "\n",
    "`Prescriptive Analysis`\n",
    "\n",
    "**Need**: Recommending the best course of action.\n",
    "\n",
    "**Example**: An e-commerce store wants to optimize product pricing to maximize profits.\n",
    "\n",
    "**Solution**: Use optimization models, simulations, and A/B testing."
   ]
  },
  {
   "cell_type": "markdown",
   "id": "2f449d4b",
   "metadata": {},
   "source": [
    "### How to approach a data analysis project\n",
    "\n",
    "\n",
    "\n",
    "- Start with the problem: Understand the problem you intend to solve with data and expected outcome\n",
    "\n",
    "- Collect Data : Identify what data is needed to solve the problem, their sources and format  \n",
    "\n",
    "- Clean/Explore Data : Remove inconsistencies in the data and find patterns in the data to help in your analysis\n",
    "\n",
    "- Ask relevant questions : Answer questions wrt the problem you're trying to solve\n",
    "\n",
    "- Draw conclusions : To aid effective communication, draw accurate conclusions from your analysis \n",
    "\n",
    "\n",
    "![Data Analysis Steps](data_analysis_process.png)\n",
    "\n"
   ]
  },
  {
   "cell_type": "markdown",
   "id": "571f59a4",
   "metadata": {},
   "source": [
    "### Tools used for Data Analysis\n",
    "\n",
    "\n",
    "`SQL (Structured Query Language)` : Ideal for working with data stored in relational databases e.g MySQL, PostgreSQL , SQL Server\n",
    "\n",
    "`Microsoft Excel` : Ideal for working with data stored in flat files like spreadsheets/csv/tsv. \n",
    "\n",
    "`Power BI / Tableau` : Ideal for creating visualizations especially when stakeholders want a report/dashboard they can interact with. \n",
    "\n",
    "`Python` : Highly versatile tool that offers capabilities present in other tools and can do much more e.g machine learning. It is programming language so it gives the programmer power to solve really complex data analysis problems. \n",
    "\n",
    "\n",
    "##### Advice : Use the tool that gets the job done. "
   ]
  },
  {
   "cell_type": "code",
   "execution_count": null,
   "id": "8ef1b8ca",
   "metadata": {},
   "outputs": [],
   "source": []
  }
 ],
 "metadata": {
  "kernelspec": {
   "display_name": "Python 3 (ipykernel)",
   "language": "python",
   "name": "python3"
  },
  "language_info": {
   "codemirror_mode": {
    "name": "ipython",
    "version": 3
   },
   "file_extension": ".py",
   "mimetype": "text/x-python",
   "name": "python",
   "nbconvert_exporter": "python",
   "pygments_lexer": "ipython3",
   "version": "3.11.5"
  }
 },
 "nbformat": 4,
 "nbformat_minor": 5
}
