{
 "cells": [
  {
   "cell_type": "markdown",
   "id": "48a03860",
   "metadata": {},
   "source": [
    "### What is Programming\n",
    "\n",
    "Programming is how we tell computers what to do. Just like the way you would tell a child what to do. \n",
    "\n",
    "\n",
    "`Formal Definition`\n",
    "\n",
    "It is the act of writing a set of instructions (program/code) for the computer to execute. The program is designed/written to accomplish a specific task - displaying a web page, turning on/off the computer, setting an alarm etc. Every software you use is the output of a program written by **programmers**\n",
    "\n",
    "The recipient of the program - *computer*, possess features that enable it to carry out instructions efficiently and at good processing speed. \n"
   ]
  },
  {
   "cell_type": "markdown",
   "id": "1c4a4fc2",
   "metadata": {},
   "source": [
    "#### Programming Language\n",
    "\n",
    "A programming language is the medium of communication between the programmer and the computer. Just like we use use English to communicate with each other. \n",
    "\n",
    "`Formal Definition`\n",
    "\n",
    "It encompases **set of rules** and **syntax** that allow programmers to instruct the computer on what to do. It acts as a bridge between **human logic** and **machine-level execution**. \n",
    "\n",
    "Programming Language differ on their ***level of abstraction*** and the way the program is executed. \n",
    "\n",
    "- low level : interact directly with the hardware e.g Machine language (0s and 1s)\n",
    "\n",
    "- high level : human readable and abstracts low-level details. e.g Python, Java etc"
   ]
  },
  {
   "cell_type": "markdown",
   "id": "201b90e1",
   "metadata": {},
   "source": [
    "#### Python\n",
    "\n",
    "Python is arguably the most popular programming language. This is because of its widespread application and easy syntax. It is a high-level, interpreted and general purpose programming language. \n",
    "\n",
    "`Use cases`\n",
    "\n",
    "- Data analysis\n",
    "\n",
    "- Data science\n",
    "\n",
    "- Web Development\n",
    "\n",
    "- Game Development and so much more\n",
    "\n",
    "Each of these use cases require that you learn a ***python library***(A program that provides most of the functionalities needed to solve a particular problem).  \n",
    "\n",
    "\n",
    "First things first, let's learn the syntax and rules of the language. Shall we?"
   ]
  },
  {
   "cell_type": "code",
   "execution_count": null,
   "id": "09c904e4",
   "metadata": {},
   "outputs": [],
   "source": []
  }
 ],
 "metadata": {
  "kernelspec": {
   "display_name": "Python 3 (ipykernel)",
   "language": "python",
   "name": "python3"
  },
  "language_info": {
   "codemirror_mode": {
    "name": "ipython",
    "version": 3
   },
   "file_extension": ".py",
   "mimetype": "text/x-python",
   "name": "python",
   "nbconvert_exporter": "python",
   "pygments_lexer": "ipython3",
   "version": "3.11.5"
  }
 },
 "nbformat": 4,
 "nbformat_minor": 5
}
