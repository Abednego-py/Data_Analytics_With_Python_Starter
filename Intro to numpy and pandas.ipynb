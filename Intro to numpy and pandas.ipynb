{
 "cells": [
  {
   "cell_type": "markdown",
   "id": "6219f097",
   "metadata": {},
   "source": [
    "## Modules\n",
    "\n",
    "Modules enable you to split parts of your program in different files for easier maintenance and better performance.\n",
    "\n",
    "### Built-in Modules\n",
    "\n",
    "Python provides various types of modules which include Python built-in modules and external modules. Python built-in modules are a set of libraries that come pre-installed with the Python installation. Some examples of Python built-in modules include “os”, “sys”, \"random\",“math”, and “datetime”.\n",
    "\n",
    "### External Modules\n",
    "\n",
    "External modules are collections of pre-written code that offer additional functions, classes, or methods not available in Python’s standard library. These modules usually cater to specific needs like web scraping, data analysis, or machine learning. Python’s package manager, “pip”, makes it exceedingly simple to install and manage these modules. Examples are numpy, pandas, requests, flask etc\n",
    "\n",
    "**Advantages of Using External Modules**\n",
    "\n",
    "`Efficiency` : Instead of writing code from scratch, you can leverage pre-built functionalities.\n",
    "\n",
    "`Community Support`: Many popular modules have vast communities, ensuring updates, bug fixes, and support.\n",
    "\n",
    "`Standardization`: Using common modules means adhering to widely accepted best practices."
   ]
  },
  {
   "cell_type": "markdown",
   "id": "21be5643",
   "metadata": {},
   "source": [
    "## Numpy \n",
    "\n",
    "NumPy is a Python library used for working with arrays. NumPy stands for Numerical Python. \n",
    "\n",
    "In Python we have lists that serve the purpose of arrays, but they are slow to process. NumPy aims to provide an array object that is up to 50x faster than traditional Python lists. The pandas library is built on top of numpy\n",
    "\n",
    "\n",
    "## Pandas \n",
    "\n",
    "Pandas is a Python library used for working with data sets.\n",
    "\n",
    "It has functions for analyzing, cleaning, exploring, and manipulating data.It has 2 data structures - Series and DataFrame. The dataframe is similar to an Excel worksheet or SQL table\n",
    "\n",
    "The name \"Pandas\" has a reference to both \"Panel Data\", and \"Python Data Analysis\" and was created by Wes McKinney in 2008."
   ]
  },
  {
   "cell_type": "code",
   "execution_count": null,
   "id": "f657575c",
   "metadata": {},
   "outputs": [],
   "source": []
  }
 ],
 "metadata": {
  "kernelspec": {
   "display_name": "Python 3 (ipykernel)",
   "language": "python",
   "name": "python3"
  },
  "language_info": {
   "codemirror_mode": {
    "name": "ipython",
    "version": 3
   },
   "file_extension": ".py",
   "mimetype": "text/x-python",
   "name": "python",
   "nbconvert_exporter": "python",
   "pygments_lexer": "ipython3",
   "version": "3.11.5"
  }
 },
 "nbformat": 4,
 "nbformat_minor": 5
}
